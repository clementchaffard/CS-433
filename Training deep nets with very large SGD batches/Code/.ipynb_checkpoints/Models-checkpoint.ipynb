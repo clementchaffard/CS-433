{
 "cells": [
  {
   "cell_type": "code",
   "execution_count": 6,
   "metadata": {},
   "outputs": [],
   "source": [
    "import torch\n",
    "from torch import nn\n",
    "from torch.nn import functional as F\n",
    "\n",
    "class CNN(nn.Module):\n",
    "\n",
    "    def __init__(self):\n",
    "        super(CNN, self).__init__()\n",
    "        \n",
    "        self.conv1 = nn.Conv2d(2, 16, kernel_size=3, padding = 3)\n",
    "        self.conv2 = nn.Conv2d(16, 20, kernel_size=3, padding = 3)\n",
    "        self.fc1 = nn.Linear(720, 100)\n",
    "        self.fc2 = nn.Linear(100, 2)\n",
    "        self.classifier = nn.Linear(2, 1)\n",
    "        self.sigmoid = nn.Sigmoid()\n",
    "\n",
    "        \n",
    "    def forward(self, x):\n",
    "        \"\"\"\n",
    "        General structure of one layer:\n",
    "            Input -> Convolution -> Activation(ReLu) -> Maxpooling -> Output\n",
    "        \"\"\"\n",
    "        # 1st layer \n",
    "        x = F.max_pool2d(F.relu(self.conv1(x)), kernel_size=2)\n",
    "        # 2nd layer \n",
    "        x = F.max_pool2d(F.relu(self.conv2(x)), kernel_size=2)\n",
    "        # 3rd layer\n",
    "        x = F.relu(self.fc1(x.view(x.size()[0], -1)))\n",
    "        # 4th layer\n",
    "        x = self.fc2(F.dropout(x)) \n",
    "        x = self.sigmoid(self.classifier(x))\n",
    "        \n",
    "        return x.squeeze()"
   ]
  }
 ],
 "metadata": {
  "kernelspec": {
   "display_name": "Python 3",
   "language": "python",
   "name": "python3"
  },
  "language_info": {
   "codemirror_mode": {
    "name": "ipython",
    "version": 3
   },
   "file_extension": ".py",
   "mimetype": "text/x-python",
   "name": "python",
   "nbconvert_exporter": "python",
   "pygments_lexer": "ipython3",
   "version": "3.8.3"
  }
 },
 "nbformat": 4,
 "nbformat_minor": 4
}
