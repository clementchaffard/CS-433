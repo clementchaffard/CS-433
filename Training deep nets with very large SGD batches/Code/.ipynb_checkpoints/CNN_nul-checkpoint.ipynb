{
 "cells": [
  {
   "cell_type": "code",
   "execution_count": 74,
   "metadata": {},
   "outputs": [],
   "source": [
    "#PyTorch libraries\n",
    "import torch\n",
    "import torch.nn as nn\n",
    "\n",
    "from torch.autograd import Variable\n",
    "from torch.nn import Linear, ReLU, BCELoss, CrossEntropyLoss, Sequential, Conv2d, MaxPool2d, Module, Softmax, BatchNorm2d, Dropout\n",
    "from torch.optim import Adam, SGD\n",
    "\n",
    "#Other\n",
    "import matplotlib.pyplot as plt\n",
    "import import_ipynb\n",
    "from Data_loading import *"
   ]
  },
  {
   "cell_type": "code",
   "execution_count": 62,
   "metadata": {},
   "outputs": [],
   "source": [
    "#Model CNN\n",
    "class Net(nn.Module):   \n",
    "    def __init__(self, verbose=True):\n",
    "        \n",
    "        super(Net, self).__init__()\n",
    "        # Convolutional layers\n",
    "        self.conv1 = nn.Conv2d(2, 24, kernel_size=3)\n",
    "        self.conv2 = nn.Conv2d(24, 49, kernel_size=3)\n",
    "        \n",
    "        # fully connected layers\n",
    "        self.fc1 = nn.Linear(196, 128)\n",
    "        self.fc2 = nn.Linear(128, 20)\n",
    "        self.fc3 = nn.Linear(20, 10)\n",
    "        self.classifier = nn.Linear(10, 1)\n",
    "        \n",
    "        # Regularizers\n",
    "        self.drop = nn.Dropout(0.2)\n",
    "        self.pool = nn.MaxPool2d(2,2)\n",
    "        \n",
    "        # Activation functions\n",
    "        self.relu = nn.ReLU()\n",
    "        self.sigmoid = nn.Sigmoid()\n",
    "        \n",
    "        if verbose:\n",
    "            print(f'{self._get_name()} - Number of parameters: {self.count_params()}')\n",
    "\n",
    "    def count_params(self):\n",
    "        '''\n",
    "        Counts number of parameters in model\n",
    "        '''\n",
    "        return sum(p.numel() for p in self.parameters())\n",
    "    \n",
    "    def forward(self, x):\n",
    "        '''\n",
    "        Forward pass\n",
    "        Parameters\n",
    "        -------\n",
    "        x\n",
    "            Input to the model, dimension: Nx2x14x14\n",
    "        Returns\n",
    "        -------\n",
    "        tensor\n",
    "            Binary classification output, dimension: Nx1\n",
    "        tensor\n",
    "            Auxiliary classification (None as the network is not Siamese)\n",
    "            (Siamese networks cannot benefit from auxiliary training)\n",
    "        '''\n",
    "        \n",
    "        x = self.pool(self.relu(self.conv1(x)))\n",
    "        x = self.pool(self.relu(self.conv2(x)))\n",
    "        \n",
    "        x = self.relu(self.fc1(x.flatten(start_dim=1)))\n",
    "        x = self.drop(x)\n",
    "        \n",
    "        x = self.relu(self.fc2(x))\n",
    "        x = self.drop(x)\n",
    "        \n",
    "        x = self.relu(self.fc3(x.flatten(start_dim=1)))\n",
    "        \n",
    "        x = self.sigmoid(self.classifier(x))\n",
    "        return x.squeeze()"
   ]
  },
  {
   "cell_type": "code",
   "execution_count": 63,
   "metadata": {},
   "outputs": [
    {
     "name": "stdout",
     "output_type": "stream",
     "text": [
      "Net - Number of parameters: 39106\n",
      "Net(\n",
      "  (conv1): Conv2d(2, 24, kernel_size=(3, 3), stride=(1, 1))\n",
      "  (conv2): Conv2d(24, 49, kernel_size=(3, 3), stride=(1, 1))\n",
      "  (fc1): Linear(in_features=196, out_features=128, bias=True)\n",
      "  (fc2): Linear(in_features=128, out_features=20, bias=True)\n",
      "  (fc3): Linear(in_features=20, out_features=10, bias=True)\n",
      "  (classifier): Linear(in_features=10, out_features=1, bias=True)\n",
      "  (drop): Dropout(p=0.2, inplace=False)\n",
      "  (pool): MaxPool2d(kernel_size=2, stride=2, padding=0, dilation=1, ceil_mode=False)\n",
      "  (relu): ReLU()\n",
      "  (sigmoid): Sigmoid()\n",
      ")\n"
     ]
    }
   ],
   "source": [
    "# defining the model\n",
    "model = Net()\n",
    "# defining the optimizer\n",
    "optimizer = Adam(model.parameters(), lr=0.07)\n",
    "# defining the loss function\n",
    "criterion = BCELoss()\n",
    "# checking if GPU is available\n",
    "if torch.cuda.is_available():\n",
    "    model = model.cuda()\n",
    "    criterion = criterion.cuda()\n",
    "    \n",
    "print(model)"
   ]
  },
  {
   "cell_type": "code",
   "execution_count": 64,
   "metadata": {},
   "outputs": [],
   "source": [
    "def load_easy(nb = 1000):\n",
    "      # Generate pairs\n",
    "    train_input, train_target, train_classes, test_input, test_target, test_classes = prologue.generate_pair_sets(nb)\n",
    "     # Retrieve mean and standard deviation of training set\n",
    "    mean, var = train_input.mean(), train_input.std()\n",
    "    # Standardize data\n",
    "    train_input, test_input = [standardize(x, mean, var) for x in [train_input, test_input]]\n",
    "    return train_input, train_target, test_input, test_target"
   ]
  },
  {
   "cell_type": "code",
   "execution_count": 69,
   "metadata": {},
   "outputs": [],
   "source": [
    "def train(epoch):\n",
    "    model.train()\n",
    "    tr_loss = 0\n",
    "    \"\"\"\n",
    "    # getting the training set\n",
    "    x_train, y_train = Variable(train_x), Variable(train_y)\n",
    "    # getting the validation set\n",
    "    x_val, y_val = Variable(val_x), Variable(val_y)\n",
    "    \"\"\"\n",
    "    x_train, y_train, x_val, y_val = load_easy(100)\n",
    "    \n",
    "\n",
    "    # converting the data into GPU format\n",
    "    if torch.cuda.is_available():\n",
    "        x_train = x_train.cuda()\n",
    "        y_train = y_train.cuda()\n",
    "        x_val = x_val.cuda()\n",
    "        y_val = y_val.cuda()\n",
    "\n",
    "    # clearing the Gradients of the model parameters\n",
    "    optimizer.zero_grad()\n",
    "    \n",
    "    # prediction for training and validation set\n",
    "    output_train = model(x_train)\n",
    "    output_val = model(x_val)\n",
    "    \n",
    "    # computing the training and validation loss\n",
    "    loss_train = criterion(output_train, y_train.float())\n",
    "    loss_val = criterion(output_val, y_val.float())\n",
    "    train_losses.append(loss_train)\n",
    "    val_losses.append(loss_val)\n",
    "\n",
    "    # computing the updated weights of all the model parameters\n",
    "    loss_train.backward()\n",
    "    optimizer.step()\n",
    "    tr_loss = loss_train.item()\n",
    "    if epoch%2 == 0:\n",
    "        # printing the validation loss\n",
    "        print('Epoch : ',epoch+1, '\\t', 'loss :', loss_val)"
   ]
  },
  {
   "cell_type": "code",
   "execution_count": 70,
   "metadata": {},
   "outputs": [
    {
     "name": "stdout",
     "output_type": "stream",
     "text": [
      "Epoch :  1 \t loss : tensor(0.6893, grad_fn=<BinaryCrossEntropyBackward>)\n",
      "Epoch :  3 \t loss : tensor(0.6853, grad_fn=<BinaryCrossEntropyBackward>)\n",
      "Epoch :  5 \t loss : tensor(0.7840, grad_fn=<BinaryCrossEntropyBackward>)\n",
      "Epoch :  7 \t loss : tensor(0.6997, grad_fn=<BinaryCrossEntropyBackward>)\n",
      "Epoch :  9 \t loss : tensor(0.6852, grad_fn=<BinaryCrossEntropyBackward>)\n",
      "Epoch :  11 \t loss : tensor(0.7789, grad_fn=<BinaryCrossEntropyBackward>)\n",
      "Epoch :  13 \t loss : tensor(0.6956, grad_fn=<BinaryCrossEntropyBackward>)\n",
      "Epoch :  15 \t loss : tensor(0.6886, grad_fn=<BinaryCrossEntropyBackward>)\n",
      "Epoch :  17 \t loss : tensor(0.6858, grad_fn=<BinaryCrossEntropyBackward>)\n",
      "Epoch :  19 \t loss : tensor(0.6950, grad_fn=<BinaryCrossEntropyBackward>)\n",
      "Epoch :  21 \t loss : tensor(0.6867, grad_fn=<BinaryCrossEntropyBackward>)\n",
      "Epoch :  23 \t loss : tensor(0.7184, grad_fn=<BinaryCrossEntropyBackward>)\n",
      "Epoch :  25 \t loss : tensor(0.7025, grad_fn=<BinaryCrossEntropyBackward>)\n"
     ]
    }
   ],
   "source": [
    "# defining the number of epochs\n",
    "n_epochs = 25\n",
    "# empty list to store training losses\n",
    "train_losses = []\n",
    "# empty list to store validation losses\n",
    "val_losses = []\n",
    "# training the model\n",
    "for epoch in range(n_epochs):\n",
    "    train(epoch)"
   ]
  },
  {
   "cell_type": "code",
   "execution_count": 75,
   "metadata": {},
   "outputs": [
    {
     "data": {
      "image/png": "[encoded data removed]",
      "text/plain": [
       "<Figure size 432x288 with 1 Axes>"
      ]
     },
     "metadata": {
      "needs_background": "light"
     },
     "output_type": "display_data"
    }
   ],
   "source": [
    "plt.plot(train_losses, label='Training loss')\n",
    "plt.plot(val_losses, label='Validation loss')\n",
    "plt.legend()\n",
    "plt.show()"
   ]
  },
  {
   "cell_type": "code",
   "execution_count": 84,
   "metadata": {},
   "outputs": [
    {
     "ename": "NameError",
     "evalue": "name 'y' is not defined",
     "output_type": "error",
     "traceback": [
      "\u001b[1;31m---------------------------------------------------------------------------\u001b[0m",
      "\u001b[1;31mNameError\u001b[0m                                 Traceback (most recent call last)",
      "\u001b[1;32m<ipython-input-84-a4f75d1df110>\u001b[0m in \u001b[0;36m<module>\u001b[1;34m\u001b[0m\n\u001b[0;32m      8\u001b[0m \u001b[1;33m\u001b[0m\u001b[0m\n\u001b[0;32m      9\u001b[0m         \u001b[0mout\u001b[0m \u001b[1;33m=\u001b[0m \u001b[0mmodel\u001b[0m\u001b[1;33m(\u001b[0m\u001b[0mtrain_x\u001b[0m\u001b[1;33m)\u001b[0m\u001b[1;33m\u001b[0m\u001b[1;33m\u001b[0m\u001b[0m\n\u001b[1;32m---> 10\u001b[1;33m         \u001b[0mcorrect\u001b[0m \u001b[1;33m+=\u001b[0m \u001b[1;33m(\u001b[0m\u001b[1;33m(\u001b[0m\u001b[0mout\u001b[0m \u001b[1;33m>\u001b[0m \u001b[1;36m0.5\u001b[0m\u001b[1;33m)\u001b[0m \u001b[1;33m==\u001b[0m \u001b[0my\u001b[0m\u001b[1;33m)\u001b[0m\u001b[1;33m.\u001b[0m\u001b[0mfloat\u001b[0m\u001b[1;33m(\u001b[0m\u001b[1;33m)\u001b[0m\u001b[1;33m.\u001b[0m\u001b[0msum\u001b[0m\u001b[1;33m(\u001b[0m\u001b[1;33m)\u001b[0m\u001b[1;33m.\u001b[0m\u001b[0mitem\u001b[0m\u001b[1;33m(\u001b[0m\u001b[1;33m)\u001b[0m\u001b[1;33m\u001b[0m\u001b[1;33m\u001b[0m\u001b[0m\n\u001b[0m\u001b[0;32m     11\u001b[0m         \u001b[0mtotal\u001b[0m \u001b[1;33m+=\u001b[0m \u001b[0mlen\u001b[0m\u001b[1;33m(\u001b[0m\u001b[0mtrain_x\u001b[0m\u001b[1;33m)\u001b[0m\u001b[1;33m\u001b[0m\u001b[1;33m\u001b[0m\u001b[0m\n\u001b[0;32m     12\u001b[0m \u001b[1;33m\u001b[0m\u001b[0m\n",
      "\u001b[1;31mNameError\u001b[0m: name 'y' is not defined"
     ]
    }
   ],
   "source": [
    "# prediction for training set\n",
    "\n",
    "train_x, _,_,_ = load_easy(100)\n",
    "correct = 0.\n",
    "total = 0\n",
    "#net.eval()\n",
    "with torch.no_grad():\n",
    "    \n",
    "        out = model(train_x)\n",
    "        correct += ((out > 0.5) == y).float().sum().item()\n",
    "        total += len(train_x)\n",
    "\n",
    "\n",
    "print('Accuracy of the network on the 10000 test images: %d %%' % (\n",
    "    100 * correct / total))"
   ]
  },
  {
   "cell_type": "code",
   "execution_count": null,
   "metadata": {},
   "outputs": [],
   "source": []
  }
 ],
 "metadata": {
  "kernelspec": {
   "display_name": "Python 3",
   "language": "python",
   "name": "python3"
  },
  "language_info": {
   "codemirror_mode": {
    "name": "ipython",
    "version": 3
   },
   "file_extension": ".py",
   "mimetype": "text/x-python",
   "name": "python",
   "nbconvert_exporter": "python",
   "pygments_lexer": "ipython3",
   "version": "3.8.3"
  }
 },
 "nbformat": 4,
 "nbformat_minor": 4
}
